{
  "nbformat": 4,
  "nbformat_minor": 0,
  "metadata": {
    "colab": {
      "provenance": [],
      "authorship_tag": "ABX9TyNbSF3n2tnt4fwbfRwGZSur",
      "include_colab_link": true
    },
    "kernelspec": {
      "name": "python3",
      "display_name": "Python 3"
    },
    "language_info": {
      "name": "python"
    }
  },
  "cells": [
    {
      "cell_type": "markdown",
      "metadata": {
        "id": "view-in-github",
        "colab_type": "text"
      },
      "source": [
        "<a href=\"https://colab.research.google.com/github/kioia44/PYTHON1/blob/main/Untitled5.ipynb\" target=\"_parent\"><img src=\"https://colab.research.google.com/assets/colab-badge.svg\" alt=\"Open In Colab\"/></a>"
      ]
    },
    {
      "cell_type": "code",
      "execution_count": null,
      "metadata": {
        "id": "_rs9PIZpBFNV"
      },
      "outputs": [],
      "source": []
    },
    {
      "cell_type": "markdown",
      "source": [
        "1. Crie uma função que receba uma lista de números e retorne uma lista contendo apenas os números ímpares."
      ],
      "metadata": {
        "id": "bUMrjgScQi5l"
      }
    },
    {
      "cell_type": "code",
      "source": [
        "def numeros_impares(lista):\n",
        "    return [num for num in lista if num % 2 != 0]\n"
      ],
      "metadata": {
        "id": "3yHUJtjQQrXl"
      },
      "execution_count": 3,
      "outputs": []
    },
    {
      "cell_type": "markdown",
      "source": [
        "\n",
        "2. Escreva uma função que receba uma lista e retorne uma nova lista com o dobro de cada elemento.\n",
        "```\n",
        "\n",
        "\n",
        "```\n",
        "\n"
      ],
      "metadata": {
        "id": "CpPuy_djQrzM"
      }
    },
    {
      "cell_type": "code",
      "source": [
        "def dobrar_elementos(lista):\n",
        "    return [num * 2 for num in lista]\n"
      ],
      "metadata": {
        "id": "VlwICBWKQsN0"
      },
      "execution_count": 4,
      "outputs": []
    },
    {
      "cell_type": "markdown",
      "source": [
        "3. Faça uma função que receba uma lista e retorne uma lista sem duplicatas."
      ],
      "metadata": {
        "id": "K4M_Q2I2Qsa_"
      }
    },
    {
      "cell_type": "code",
      "source": [
        "def remover_duplicatas(lista):\n",
        "    return list(set(lista))\n"
      ],
      "metadata": {
        "id": "XBm0B79zQsmp"
      },
      "execution_count": 20,
      "outputs": []
    },
    {
      "cell_type": "markdown",
      "source": [
        "\n",
        "4. Crie uma função que receba uma lista e um valor divisor e retorne uma lista dos elementos que são divisíveis pelo divisor."
      ],
      "metadata": {
        "id": "sI060t69S-Lu"
      }
    },
    {
      "cell_type": "code",
      "source": [
        "def divisiveis_por(lista, divisor):\n",
        "    return [num for num in lista if num % divisor == 0]\n"
      ],
      "metadata": {
        "id": "vo74DhVCQu5s"
      },
      "execution_count": 22,
      "outputs": []
    },
    {
      "cell_type": "markdown",
      "source": [
        "5. Escreva uma função que receba duas listas e retorne um conjunto com os elementos que aparecem em ambas."
      ],
      "metadata": {
        "id": "vlaGIIhmRBHd"
      }
    },
    {
      "cell_type": "code",
      "source": [
        "def interseccao_listas(lista1, lista2):\n",
        "    return set(lista1) & set(lista2)\n"
      ],
      "metadata": {
        "id": "Mz4JPbAARBV0"
      },
      "execution_count": 21,
      "outputs": []
    },
    {
      "cell_type": "markdown",
      "source": [
        "6. Crie uma função que receba uma lista e retorne uma nova lista com os elementos em ordem inversa."
      ],
      "metadata": {
        "id": "9r08hpI5RBin"
      }
    },
    {
      "cell_type": "code",
      "source": [
        "def ordem_inversa(lista):\n",
        "    return lista[::-1]\n"
      ],
      "metadata": {
        "id": "hLizkuttRBxs"
      },
      "execution_count": 5,
      "outputs": []
    },
    {
      "cell_type": "markdown",
      "source": [
        "7. Escreva uma função que receba uma lista de números e retorne uma lista contendo o quadrado de cada número."
      ],
      "metadata": {
        "id": "pjkzPgpfRB6s"
      }
    },
    {
      "cell_type": "code",
      "source": [
        "def quadrado_numeros(lista):\n",
        "    return [num ** 2 for num in lista]\n"
      ],
      "metadata": {
        "id": "CznJUlDjlBPI"
      },
      "execution_count": 6,
      "outputs": []
    },
    {
      "cell_type": "markdown",
      "source": [
        "8. Crie uma função que receba uma lista e um valor, e retorne uma lista com os elementos maiores que esse valor."
      ],
      "metadata": {
        "id": "FxkAAAO1RCZM"
      }
    },
    {
      "cell_type": "code",
      "source": [
        "def maiores_que(lista, valor):\n",
        "    return [num for num in lista if num > valor]\n"
      ],
      "metadata": {
        "id": "qm9IB2X0RCmA"
      },
      "execution_count": 19,
      "outputs": []
    },
    {
      "cell_type": "markdown",
      "source": [
        "9. Escreva uma função que receba duas listas e retorne uma lista dos elementos que estão em apenas uma das listas."
      ],
      "metadata": {
        "id": "_Fkhr4OyRC5V"
      }
    },
    {
      "cell_type": "code",
      "source": [
        "def diferenca_simetrica(lista1, lista2):\n",
        "    return list(set(lista1) ^ set(lista2))\n"
      ],
      "metadata": {
        "id": "fIIXjHqxf_4Z"
      },
      "execution_count": 18,
      "outputs": []
    },
    {
      "cell_type": "markdown",
      "source": [
        "10. Faça uma função que receba uma lista e retorne um conjunto dos elementos únicos."
      ],
      "metadata": {
        "id": "0NG9tWJbgALg"
      }
    },
    {
      "cell_type": "code",
      "source": [
        "def elementos_unicos(lista):\n",
        "    return set(lista)\n"
      ],
      "metadata": {
        "id": "fQCVdlW-gKhI"
      },
      "execution_count": 17,
      "outputs": []
    },
    {
      "cell_type": "markdown",
      "source": [
        "11. Crie uma função que receba duas listas e retorne uma lista dos elementos únicos que estão em ambas."
      ],
      "metadata": {
        "id": "_s_MUL2dgKrc"
      }
    },
    {
      "cell_type": "code",
      "source": [
        "def unicos_em_ambas(lista1, lista2):\n",
        "    return list(set(lista1) & set(lista2))\n"
      ],
      "metadata": {
        "id": "sp7Il2z_gK0v"
      },
      "execution_count": 16,
      "outputs": []
    },
    {
      "cell_type": "markdown",
      "source": [
        "12. Escreva uma função que receba uma lista e retorne uma lista contendo os elementos que aparecem mais de uma vez."
      ],
      "metadata": {
        "id": "hbZsK2NXgK7q"
      }
    },
    {
      "cell_type": "code",
      "source": [
        "def elementos_repetidos(lista):\n",
        "    return [item for item in set(lista) if lista.count(item) > 1]\n"
      ],
      "metadata": {
        "id": "35uAVvLogLBx"
      },
      "execution_count": 15,
      "outputs": []
    },
    {
      "cell_type": "markdown",
      "source": [
        "13. Faça uma função que receba uma lista de números e retorne uma lista dos números pares."
      ],
      "metadata": {
        "id": "ZnNtGulVgLGq"
      }
    },
    {
      "cell_type": "code",
      "source": [
        "def numeros_pares(lista):\n",
        "    return [num for num in lista if num % 2 == 0]\n"
      ],
      "metadata": {
        "id": "BQpRZgligLMD"
      },
      "execution_count": 14,
      "outputs": []
    },
    {
      "cell_type": "markdown",
      "source": [
        "14. Escreva uma função que receba uma lista de números e um valor, e retorne uma lista com os índices dos elementos maiores que o valor."
      ],
      "metadata": {
        "id": "arBAsOtQgLRm"
      }
    },
    {
      "cell_type": "code",
      "source": [
        "def indices_maiores_que(lista, valor):\n",
        "    return [i for i, num in enumerate(lista) if num > valor]\n"
      ],
      "metadata": {
        "id": "HTdtXWgogLV7"
      },
      "execution_count": 13,
      "outputs": []
    },
    {
      "cell_type": "markdown",
      "source": [
        "15. Crie uma função que receba uma lista de strings e retorne uma lista com o tamanho de cada string."
      ],
      "metadata": {
        "id": "oXQanAzOgLbd"
      }
    },
    {
      "cell_type": "code",
      "source": [
        "def tamanho_strings(lista):\n",
        "    return [len(string) for string in lista]\n"
      ],
      "metadata": {
        "id": "KEYXpi6VgLfr"
      },
      "execution_count": 12,
      "outputs": []
    },
    {
      "cell_type": "markdown",
      "source": [
        "16. Escreva uma função que receba uma lista de números e retorne uma lista contendo cada número elevado ao cubo."
      ],
      "metadata": {
        "id": "-I0u1P01gLki"
      }
    },
    {
      "cell_type": "code",
      "source": [
        "def cubo_numeros(lista):\n",
        "    return [num ** 3 for num in lista]\n"
      ],
      "metadata": {
        "id": "WE3QnrJ8gLpC"
      },
      "execution_count": 11,
      "outputs": []
    },
    {
      "cell_type": "markdown",
      "source": [
        "17. Crie uma função que receba uma lista e retorne uma lista de todos os elementos únicos."
      ],
      "metadata": {
        "id": "aj6_8r9Vh53M"
      }
    },
    {
      "cell_type": "code",
      "source": [
        "def todos_unicos(lista):\n",
        "    return list(set(lista))\n"
      ],
      "metadata": {
        "id": "etDWn6SbgLzK"
      },
      "execution_count": 10,
      "outputs": []
    },
    {
      "cell_type": "markdown",
      "source": [
        "18. Escreva uma função que receba uma lista de strings e retorne uma lista contendo as strings que começam com uma letra maiúscula."
      ],
      "metadata": {
        "id": "6wfcZS5igL4C"
      }
    },
    {
      "cell_type": "code",
      "source": [
        "def strings_inicial_maiuscula(lista):\n",
        "    return [s for s in lista if s[0].isupper()]\n"
      ],
      "metadata": {
        "id": "BCTlysgmgL8z"
      },
      "execution_count": 9,
      "outputs": []
    },
    {
      "cell_type": "markdown",
      "source": [
        "19. Faça uma função que receba uma lista de números e retorne uma lista contendo apenas os múltiplos de 3."
      ],
      "metadata": {
        "id": "0wQlwL_YgMSJ"
      }
    },
    {
      "cell_type": "code",
      "source": [
        "def multiplos_de_tres(lista):\n",
        "    return [num for num in lista if num % 3 == 0]\n"
      ],
      "metadata": {
        "id": "Hgeuw1f6gQRE"
      },
      "execution_count": 8,
      "outputs": []
    },
    {
      "cell_type": "markdown",
      "source": [
        "20. Escreva uma função que receba duas listas e retorne uma lista com a interseção ordenada de forma crescente entre elas."
      ],
      "metadata": {
        "id": "egpvGEWHgRXo"
      }
    },
    {
      "cell_type": "code",
      "source": [
        "def intersecao_ordenada(lista1, lista2):\n",
        "    return sorted(set(lista1) & set(lista2))\n"
      ],
      "metadata": {
        "id": "aJjT7pHTgRgA"
      },
      "execution_count": 7,
      "outputs": []
    }
  ]
}